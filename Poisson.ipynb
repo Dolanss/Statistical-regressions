{
  "cells": [
    {
      "cell_type": "code",
      "execution_count": 1,
      "metadata": {
        "id": "i9YWeQwBcXRl"
      },
      "outputs": [],
      "source": [
        "import numpy as np\n",
        "import pandas as pd"
      ]
    },
    {
      "cell_type": "code",
      "execution_count": 2,
      "metadata": {
        "id": "TF3YIkoLgjxo"
      },
      "outputs": [],
      "source": [
        "reclamacoes = pd.read_excel('/content/drive/MyDrive/tests/reclamacoes.xlsx')"
      ]
    },
    {
      "cell_type": "code",
      "execution_count": 5,
      "metadata": {
        "colab": {
          "base_uri": "https://localhost:8080/",
          "height": 498
        },
        "id": "_ItMRdQfhnE_",
        "outputId": "2943a119-e4e5-43ed-9cb1-07f2f73941c7"
      },
      "outputs": [
        {
          "data": {
            "text/html": [
              "<div>\n",
              "<style scoped>\n",
              "    .dataframe tbody tr th:only-of-type {\n",
              "        vertical-align: middle;\n",
              "    }\n",
              "\n",
              "    .dataframe tbody tr th {\n",
              "        vertical-align: top;\n",
              "    }\n",
              "\n",
              "    .dataframe thead th {\n",
              "        text-align: right;\n",
              "    }\n",
              "</style>\n",
              "<table border=\"1\" class=\"dataframe\">\n",
              "  <thead>\n",
              "    <tr style=\"text-align: right;\">\n",
              "      <th></th>\n",
              "      <th>dia</th>\n",
              "      <th>velocidade</th>\n",
              "      <th>conexao</th>\n",
              "      <th>instabilidade</th>\n",
              "    </tr>\n",
              "  </thead>\n",
              "  <tbody>\n",
              "    <tr>\n",
              "      <th>0</th>\n",
              "      <td>1</td>\n",
              "      <td>43</td>\n",
              "      <td>15</td>\n",
              "      <td>34</td>\n",
              "    </tr>\n",
              "    <tr>\n",
              "      <th>1</th>\n",
              "      <td>2</td>\n",
              "      <td>45</td>\n",
              "      <td>21</td>\n",
              "      <td>29</td>\n",
              "    </tr>\n",
              "    <tr>\n",
              "      <th>2</th>\n",
              "      <td>3</td>\n",
              "      <td>46</td>\n",
              "      <td>17</td>\n",
              "      <td>26</td>\n",
              "    </tr>\n",
              "    <tr>\n",
              "      <th>3</th>\n",
              "      <td>4</td>\n",
              "      <td>49</td>\n",
              "      <td>14</td>\n",
              "      <td>23</td>\n",
              "    </tr>\n",
              "    <tr>\n",
              "      <th>4</th>\n",
              "      <td>5</td>\n",
              "      <td>52</td>\n",
              "      <td>20</td>\n",
              "      <td>25</td>\n",
              "    </tr>\n",
              "    <tr>\n",
              "      <th>5</th>\n",
              "      <td>6</td>\n",
              "      <td>55</td>\n",
              "      <td>18</td>\n",
              "      <td>22</td>\n",
              "    </tr>\n",
              "    <tr>\n",
              "      <th>6</th>\n",
              "      <td>7</td>\n",
              "      <td>63</td>\n",
              "      <td>17</td>\n",
              "      <td>19</td>\n",
              "    </tr>\n",
              "    <tr>\n",
              "      <th>7</th>\n",
              "      <td>8</td>\n",
              "      <td>59</td>\n",
              "      <td>21</td>\n",
              "      <td>20</td>\n",
              "    </tr>\n",
              "    <tr>\n",
              "      <th>8</th>\n",
              "      <td>9</td>\n",
              "      <td>58</td>\n",
              "      <td>23</td>\n",
              "      <td>14</td>\n",
              "    </tr>\n",
              "    <tr>\n",
              "      <th>9</th>\n",
              "      <td>10</td>\n",
              "      <td>60</td>\n",
              "      <td>16</td>\n",
              "      <td>12</td>\n",
              "    </tr>\n",
              "    <tr>\n",
              "      <th>10</th>\n",
              "      <td>11</td>\n",
              "      <td>62</td>\n",
              "      <td>20</td>\n",
              "      <td>15</td>\n",
              "    </tr>\n",
              "    <tr>\n",
              "      <th>11</th>\n",
              "      <td>12</td>\n",
              "      <td>66</td>\n",
              "      <td>18</td>\n",
              "      <td>11</td>\n",
              "    </tr>\n",
              "    <tr>\n",
              "      <th>12</th>\n",
              "      <td>13</td>\n",
              "      <td>63</td>\n",
              "      <td>15</td>\n",
              "      <td>9</td>\n",
              "    </tr>\n",
              "    <tr>\n",
              "      <th>13</th>\n",
              "      <td>14</td>\n",
              "      <td>71</td>\n",
              "      <td>17</td>\n",
              "      <td>9</td>\n",
              "    </tr>\n",
              "    <tr>\n",
              "      <th>14</th>\n",
              "      <td>15</td>\n",
              "      <td>73</td>\n",
              "      <td>21</td>\n",
              "      <td>8</td>\n",
              "    </tr>\n",
              "  </tbody>\n",
              "</table>\n",
              "</div>"
            ],
            "text/plain": [
              "    dia  velocidade  conexao  instabilidade\n",
              "0     1          43       15             34\n",
              "1     2          45       21             29\n",
              "2     3          46       17             26\n",
              "3     4          49       14             23\n",
              "4     5          52       20             25\n",
              "5     6          55       18             22\n",
              "6     7          63       17             19\n",
              "7     8          59       21             20\n",
              "8     9          58       23             14\n",
              "9    10          60       16             12\n",
              "10   11          62       20             15\n",
              "11   12          66       18             11\n",
              "12   13          63       15              9\n",
              "13   14          71       17              9\n",
              "14   15          73       21              8"
            ]
          },
          "execution_count": 5,
          "metadata": {
            "tags": []
          },
          "output_type": "execute_result"
        }
      ],
      "source": [
        "reclamacoes.head(15)"
      ]
    },
    {
      "cell_type": "code",
      "execution_count": 4,
      "metadata": {
        "colab": {
          "base_uri": "https://localhost:8080/"
        },
        "id": "91vx-6Jw6Zxz",
        "outputId": "c9f87d9e-ecb8-4081-9346-c4c8ca477c35"
      },
      "outputs": [
        {
          "data": {
            "text/plain": [
              "(15, 4)"
            ]
          },
          "execution_count": 4,
          "metadata": {
            "tags": []
          },
          "output_type": "execute_result"
        }
      ],
      "source": [
        "reclamacoes.shape"
      ]
    },
    {
      "cell_type": "markdown",
      "metadata": {
        "id": "HKQIUhPthqwV"
      },
      "source": [
        "**Objetivo: Analisar reclamações em uma nova empresa de internet**"
      ]
    },
    {
      "cell_type": "code",
      "execution_count": 6,
      "metadata": {
        "colab": {
          "base_uri": "https://localhost:8080/"
        },
        "id": "35ctXRgjgXvS",
        "outputId": "d2a63f85-b2cb-4be3-898d-f7cb575744eb"
      },
      "outputs": [
        {
          "name": "stderr",
          "output_type": "stream",
          "text": [
            "/usr/local/lib/python3.7/dist-packages/statsmodels/tools/_testing.py:19: FutureWarning: pandas.util.testing is deprecated. Use the functions in the public API at pandas.testing instead.\n",
            "  import pandas.util.testing as tm\n"
          ]
        }
      ],
      "source": [
        "import statsmodels.formula.api as smf\n",
        "import statsmodels.api as sm"
      ]
    },
    {
      "cell_type": "code",
      "execution_count": 7,
      "metadata": {
        "colab": {
          "base_uri": "https://localhost:8080/"
        },
        "id": "1bwcCeI4iqaH",
        "outputId": "9b77ba92-c1d3-4d9e-9b18-65ba21478c8d"
      },
      "outputs": [
        {
          "name": "stdout",
          "output_type": "stream",
          "text": [
            "Optimization terminated successfully.\n",
            "         Current function value: 3.003118\n",
            "         Iterations 4\n"
          ]
        }
      ],
      "source": [
        "modelo1 = smf.poisson(\"velocidade ~ dia\", data=reclamacoes).fit()"
      ]
    },
    {
      "cell_type": "code",
      "execution_count": 8,
      "metadata": {
        "colab": {
          "base_uri": "https://localhost:8080/"
        },
        "id": "-L85SDfkjBgm",
        "outputId": "19900c53-bdb4-48bb-d4fe-6b8d3e2f29e8"
      },
      "outputs": [
        {
          "name": "stdout",
          "output_type": "stream",
          "text": [
            "                          Poisson Regression Results                          \n",
            "==============================================================================\n",
            "Dep. Variable:             velocidade   No. Observations:                   15\n",
            "Model:                        Poisson   Df Residuals:                       13\n",
            "Method:                           MLE   Df Model:                            1\n",
            "Date:                Sun, 30 May 2021   Pseudo R-squ.:                  0.1745\n",
            "Time:                        15:39:44   Log-Likelihood:                -45.047\n",
            "converged:                       True   LL-Null:                       -54.572\n",
            "Covariance Type:            nonrobust   LLR p-value:                 1.273e-05\n",
            "==============================================================================\n",
            "                 coef    std err          z      P>|z|      [0.025      0.975]\n",
            "------------------------------------------------------------------------------\n",
            "Intercept      3.7679      0.076     49.297      0.000       3.618       3.918\n",
            "dia            0.0345      0.008      4.350      0.000       0.019       0.050\n",
            "==============================================================================\n"
          ]
        }
      ],
      "source": [
        "print(modelo1.summary())"
      ]
    },
    {
      "cell_type": "markdown",
      "metadata": {
        "id": "2sTsXOX-jbUn"
      },
      "source": [
        "**Equação: reclamação_veloc = e^(3.7679+0.0345.dia)**"
      ]
    },
    {
      "cell_type": "code",
      "execution_count": 9,
      "metadata": {
        "colab": {
          "base_uri": "https://localhost:8080/"
        },
        "id": "7PvjfJBTjwBq",
        "outputId": "c1a33dad-0c19-45e4-acac-bddb0d80a7e9"
      },
      "outputs": [
        {
          "data": {
            "text/plain": [
              "0     44.807363\n",
              "1     46.378509\n",
              "2     48.004746\n",
              "3     49.688006\n",
              "4     51.430289\n",
              "5     53.233664\n",
              "6     55.100273\n",
              "7     57.032334\n",
              "8     59.032141\n",
              "9     61.102071\n",
              "10    63.244582\n",
              "11    65.462218\n",
              "12    67.757615\n",
              "13    70.133499\n",
              "14    72.592692\n",
              "dtype: float64"
            ]
          },
          "execution_count": 9,
          "metadata": {
            "tags": []
          },
          "output_type": "execute_result"
        }
      ],
      "source": [
        "modelo1.predict(reclamacoes.dia)"
      ]
    },
    {
      "cell_type": "code",
      "execution_count": 10,
      "metadata": {
        "id": "vwff3FiwkQLx"
      },
      "outputs": [],
      "source": [
        "reclamacoes['previsao_veloc'] = modelo1.predict(reclamacoes.dia)"
      ]
    },
    {
      "cell_type": "code",
      "execution_count": 11,
      "metadata": {
        "colab": {
          "base_uri": "https://localhost:8080/",
          "height": 468
        },
        "id": "PbU0GwKdkdzA",
        "outputId": "0314ebf9-ae41-492b-ba3e-9c0a28001bf7"
      },
      "outputs": [
        {
          "data": {
            "text/html": [
              "<div>\n",
              "<style scoped>\n",
              "    .dataframe tbody tr th:only-of-type {\n",
              "        vertical-align: middle;\n",
              "    }\n",
              "\n",
              "    .dataframe tbody tr th {\n",
              "        vertical-align: top;\n",
              "    }\n",
              "\n",
              "    .dataframe thead th {\n",
              "        text-align: right;\n",
              "    }\n",
              "</style>\n",
              "<table border=\"1\" class=\"dataframe\">\n",
              "  <thead>\n",
              "    <tr style=\"text-align: right;\">\n",
              "      <th></th>\n",
              "      <th>dia</th>\n",
              "      <th>velocidade</th>\n",
              "      <th>conexao</th>\n",
              "      <th>instabilidade</th>\n",
              "      <th>previsao_veloc</th>\n",
              "    </tr>\n",
              "  </thead>\n",
              "  <tbody>\n",
              "    <tr>\n",
              "      <th>0</th>\n",
              "      <td>1</td>\n",
              "      <td>43</td>\n",
              "      <td>15</td>\n",
              "      <td>34</td>\n",
              "      <td>44.807363</td>\n",
              "    </tr>\n",
              "    <tr>\n",
              "      <th>1</th>\n",
              "      <td>2</td>\n",
              "      <td>45</td>\n",
              "      <td>21</td>\n",
              "      <td>29</td>\n",
              "      <td>46.378509</td>\n",
              "    </tr>\n",
              "    <tr>\n",
              "      <th>2</th>\n",
              "      <td>3</td>\n",
              "      <td>46</td>\n",
              "      <td>17</td>\n",
              "      <td>26</td>\n",
              "      <td>48.004746</td>\n",
              "    </tr>\n",
              "    <tr>\n",
              "      <th>3</th>\n",
              "      <td>4</td>\n",
              "      <td>49</td>\n",
              "      <td>14</td>\n",
              "      <td>23</td>\n",
              "      <td>49.688006</td>\n",
              "    </tr>\n",
              "    <tr>\n",
              "      <th>4</th>\n",
              "      <td>5</td>\n",
              "      <td>52</td>\n",
              "      <td>20</td>\n",
              "      <td>25</td>\n",
              "      <td>51.430289</td>\n",
              "    </tr>\n",
              "    <tr>\n",
              "      <th>5</th>\n",
              "      <td>6</td>\n",
              "      <td>55</td>\n",
              "      <td>18</td>\n",
              "      <td>22</td>\n",
              "      <td>53.233664</td>\n",
              "    </tr>\n",
              "    <tr>\n",
              "      <th>6</th>\n",
              "      <td>7</td>\n",
              "      <td>63</td>\n",
              "      <td>17</td>\n",
              "      <td>19</td>\n",
              "      <td>55.100273</td>\n",
              "    </tr>\n",
              "    <tr>\n",
              "      <th>7</th>\n",
              "      <td>8</td>\n",
              "      <td>59</td>\n",
              "      <td>21</td>\n",
              "      <td>20</td>\n",
              "      <td>57.032334</td>\n",
              "    </tr>\n",
              "    <tr>\n",
              "      <th>8</th>\n",
              "      <td>9</td>\n",
              "      <td>58</td>\n",
              "      <td>23</td>\n",
              "      <td>14</td>\n",
              "      <td>59.032141</td>\n",
              "    </tr>\n",
              "    <tr>\n",
              "      <th>9</th>\n",
              "      <td>10</td>\n",
              "      <td>60</td>\n",
              "      <td>16</td>\n",
              "      <td>12</td>\n",
              "      <td>61.102071</td>\n",
              "    </tr>\n",
              "    <tr>\n",
              "      <th>10</th>\n",
              "      <td>11</td>\n",
              "      <td>62</td>\n",
              "      <td>20</td>\n",
              "      <td>15</td>\n",
              "      <td>63.244582</td>\n",
              "    </tr>\n",
              "    <tr>\n",
              "      <th>11</th>\n",
              "      <td>12</td>\n",
              "      <td>66</td>\n",
              "      <td>18</td>\n",
              "      <td>11</td>\n",
              "      <td>65.462218</td>\n",
              "    </tr>\n",
              "    <tr>\n",
              "      <th>12</th>\n",
              "      <td>13</td>\n",
              "      <td>63</td>\n",
              "      <td>15</td>\n",
              "      <td>9</td>\n",
              "      <td>67.757615</td>\n",
              "    </tr>\n",
              "    <tr>\n",
              "      <th>13</th>\n",
              "      <td>14</td>\n",
              "      <td>71</td>\n",
              "      <td>17</td>\n",
              "      <td>9</td>\n",
              "      <td>70.133499</td>\n",
              "    </tr>\n",
              "  </tbody>\n",
              "</table>\n",
              "</div>"
            ],
            "text/plain": [
              "    dia  velocidade  conexao  instabilidade  previsao_veloc\n",
              "0     1          43       15             34       44.807363\n",
              "1     2          45       21             29       46.378509\n",
              "2     3          46       17             26       48.004746\n",
              "3     4          49       14             23       49.688006\n",
              "4     5          52       20             25       51.430289\n",
              "5     6          55       18             22       53.233664\n",
              "6     7          63       17             19       55.100273\n",
              "7     8          59       21             20       57.032334\n",
              "8     9          58       23             14       59.032141\n",
              "9    10          60       16             12       61.102071\n",
              "10   11          62       20             15       63.244582\n",
              "11   12          66       18             11       65.462218\n",
              "12   13          63       15              9       67.757615\n",
              "13   14          71       17              9       70.133499"
            ]
          },
          "execution_count": 11,
          "metadata": {
            "tags": []
          },
          "output_type": "execute_result"
        }
      ],
      "source": [
        "reclamacoes.head(14)"
      ]
    },
    {
      "cell_type": "code",
      "execution_count": 12,
      "metadata": {
        "colab": {
          "base_uri": "https://localhost:8080/"
        },
        "id": "xqUPw-dcjnqC",
        "outputId": "23f4a191-95bc-4aa6-e434-c67b2854c021"
      },
      "outputs": [
        {
          "data": {
            "text/plain": [
              "94.09352707843601"
            ]
          },
          "execution_count": 12,
          "metadata": {
            "tags": []
          },
          "output_type": "execute_result"
        }
      ],
      "source": [
        "modelo1.aic"
      ]
    },
    {
      "cell_type": "code",
      "execution_count": 13,
      "metadata": {
        "colab": {
          "base_uri": "https://localhost:8080/"
        },
        "id": "d3JVxq9umjEo",
        "outputId": "03174ea4-ccd6-436d-81d0-2b170d28cd37"
      },
      "outputs": [
        {
          "name": "stdout",
          "output_type": "stream",
          "text": [
            "Optimization terminated successfully.\n",
            "         Current function value: 2.408169\n",
            "         Iterations 5\n"
          ]
        }
      ],
      "source": [
        "modelo2 = smf.poisson(\"instabilidade ~ dia\", data=reclamacoes).fit()"
      ]
    },
    {
      "cell_type": "code",
      "execution_count": 14,
      "metadata": {
        "colab": {
          "base_uri": "https://localhost:8080/"
        },
        "id": "cZIf74DDmjFK",
        "outputId": "81ab8804-01dd-4cd9-ad29-84467f73f2b3"
      },
      "outputs": [
        {
          "name": "stdout",
          "output_type": "stream",
          "text": [
            "                          Poisson Regression Results                          \n",
            "==============================================================================\n",
            "Dep. Variable:          instabilidade   No. Observations:                   15\n",
            "Model:                        Poisson   Df Residuals:                       13\n",
            "Method:                           MLE   Df Model:                            1\n",
            "Date:                Sun, 30 May 2021   Pseudo R-squ.:                  0.3963\n",
            "Time:                        15:44:29   Log-Likelihood:                -36.123\n",
            "converged:                       True   LL-Null:                       -59.836\n",
            "Covariance Type:            nonrobust   LLR p-value:                 5.709e-12\n",
            "==============================================================================\n",
            "                 coef    std err          z      P>|z|      [0.025      0.975]\n",
            "------------------------------------------------------------------------------\n",
            "Intercept      3.6116      0.109     32.986      0.000       3.397       3.826\n",
            "dia           -0.0985      0.015     -6.706      0.000      -0.127      -0.070\n",
            "==============================================================================\n"
          ]
        }
      ],
      "source": [
        "print(modelo2.summary())"
      ]
    },
    {
      "cell_type": "markdown",
      "metadata": {
        "id": "iRz68HCzmjFK"
      },
      "source": [
        "**Equação: reclamação_insta = e^(3.6116-0.0985.dia)**"
      ]
    },
    {
      "cell_type": "code",
      "execution_count": 15,
      "metadata": {
        "colab": {
          "base_uri": "https://localhost:8080/"
        },
        "id": "Pq5f98OqmjFL",
        "outputId": "4417b2ba-8e9f-4275-fe32-9b03532272a1"
      },
      "outputs": [
        {
          "data": {
            "text/plain": [
              "0     33.551308\n",
              "1     30.403004\n",
              "2     27.550122\n",
              "3     24.964942\n",
              "4     22.622344\n",
              "5     20.499565\n",
              "6     18.575977\n",
              "7     16.832891\n",
              "8     15.253368\n",
              "9     13.822060\n",
              "10    12.525060\n",
              "11    11.349765\n",
              "12    10.284754\n",
              "13     9.319678\n",
              "14     8.445162\n",
              "dtype: float64"
            ]
          },
          "execution_count": 15,
          "metadata": {
            "tags": []
          },
          "output_type": "execute_result"
        }
      ],
      "source": [
        "modelo2.predict(reclamacoes.dia)"
      ]
    },
    {
      "cell_type": "code",
      "execution_count": 16,
      "metadata": {
        "id": "GfEA-I1cmjFM"
      },
      "outputs": [],
      "source": [
        "reclamacoes['previsao_insta'] = modelo2.predict(reclamacoes.dia)"
      ]
    },
    {
      "cell_type": "code",
      "execution_count": 17,
      "metadata": {
        "colab": {
          "base_uri": "https://localhost:8080/",
          "height": 468
        },
        "id": "ihiO0qTSmjFM",
        "outputId": "1b67afc8-ed9a-474d-e9b8-fc89e55c39ab"
      },
      "outputs": [
        {
          "data": {
            "text/html": [
              "<div>\n",
              "<style scoped>\n",
              "    .dataframe tbody tr th:only-of-type {\n",
              "        vertical-align: middle;\n",
              "    }\n",
              "\n",
              "    .dataframe tbody tr th {\n",
              "        vertical-align: top;\n",
              "    }\n",
              "\n",
              "    .dataframe thead th {\n",
              "        text-align: right;\n",
              "    }\n",
              "</style>\n",
              "<table border=\"1\" class=\"dataframe\">\n",
              "  <thead>\n",
              "    <tr style=\"text-align: right;\">\n",
              "      <th></th>\n",
              "      <th>dia</th>\n",
              "      <th>velocidade</th>\n",
              "      <th>conexao</th>\n",
              "      <th>instabilidade</th>\n",
              "      <th>previsao_veloc</th>\n",
              "      <th>previsao_insta</th>\n",
              "    </tr>\n",
              "  </thead>\n",
              "  <tbody>\n",
              "    <tr>\n",
              "      <th>0</th>\n",
              "      <td>1</td>\n",
              "      <td>43</td>\n",
              "      <td>15</td>\n",
              "      <td>34</td>\n",
              "      <td>44.807363</td>\n",
              "      <td>33.551308</td>\n",
              "    </tr>\n",
              "    <tr>\n",
              "      <th>1</th>\n",
              "      <td>2</td>\n",
              "      <td>45</td>\n",
              "      <td>21</td>\n",
              "      <td>29</td>\n",
              "      <td>46.378509</td>\n",
              "      <td>30.403004</td>\n",
              "    </tr>\n",
              "    <tr>\n",
              "      <th>2</th>\n",
              "      <td>3</td>\n",
              "      <td>46</td>\n",
              "      <td>17</td>\n",
              "      <td>26</td>\n",
              "      <td>48.004746</td>\n",
              "      <td>27.550122</td>\n",
              "    </tr>\n",
              "    <tr>\n",
              "      <th>3</th>\n",
              "      <td>4</td>\n",
              "      <td>49</td>\n",
              "      <td>14</td>\n",
              "      <td>23</td>\n",
              "      <td>49.688006</td>\n",
              "      <td>24.964942</td>\n",
              "    </tr>\n",
              "    <tr>\n",
              "      <th>4</th>\n",
              "      <td>5</td>\n",
              "      <td>52</td>\n",
              "      <td>20</td>\n",
              "      <td>25</td>\n",
              "      <td>51.430289</td>\n",
              "      <td>22.622344</td>\n",
              "    </tr>\n",
              "    <tr>\n",
              "      <th>5</th>\n",
              "      <td>6</td>\n",
              "      <td>55</td>\n",
              "      <td>18</td>\n",
              "      <td>22</td>\n",
              "      <td>53.233664</td>\n",
              "      <td>20.499565</td>\n",
              "    </tr>\n",
              "    <tr>\n",
              "      <th>6</th>\n",
              "      <td>7</td>\n",
              "      <td>63</td>\n",
              "      <td>17</td>\n",
              "      <td>19</td>\n",
              "      <td>55.100273</td>\n",
              "      <td>18.575977</td>\n",
              "    </tr>\n",
              "    <tr>\n",
              "      <th>7</th>\n",
              "      <td>8</td>\n",
              "      <td>59</td>\n",
              "      <td>21</td>\n",
              "      <td>20</td>\n",
              "      <td>57.032334</td>\n",
              "      <td>16.832891</td>\n",
              "    </tr>\n",
              "    <tr>\n",
              "      <th>8</th>\n",
              "      <td>9</td>\n",
              "      <td>58</td>\n",
              "      <td>23</td>\n",
              "      <td>14</td>\n",
              "      <td>59.032141</td>\n",
              "      <td>15.253368</td>\n",
              "    </tr>\n",
              "    <tr>\n",
              "      <th>9</th>\n",
              "      <td>10</td>\n",
              "      <td>60</td>\n",
              "      <td>16</td>\n",
              "      <td>12</td>\n",
              "      <td>61.102071</td>\n",
              "      <td>13.822060</td>\n",
              "    </tr>\n",
              "    <tr>\n",
              "      <th>10</th>\n",
              "      <td>11</td>\n",
              "      <td>62</td>\n",
              "      <td>20</td>\n",
              "      <td>15</td>\n",
              "      <td>63.244582</td>\n",
              "      <td>12.525060</td>\n",
              "    </tr>\n",
              "    <tr>\n",
              "      <th>11</th>\n",
              "      <td>12</td>\n",
              "      <td>66</td>\n",
              "      <td>18</td>\n",
              "      <td>11</td>\n",
              "      <td>65.462218</td>\n",
              "      <td>11.349765</td>\n",
              "    </tr>\n",
              "    <tr>\n",
              "      <th>12</th>\n",
              "      <td>13</td>\n",
              "      <td>63</td>\n",
              "      <td>15</td>\n",
              "      <td>9</td>\n",
              "      <td>67.757615</td>\n",
              "      <td>10.284754</td>\n",
              "    </tr>\n",
              "    <tr>\n",
              "      <th>13</th>\n",
              "      <td>14</td>\n",
              "      <td>71</td>\n",
              "      <td>17</td>\n",
              "      <td>9</td>\n",
              "      <td>70.133499</td>\n",
              "      <td>9.319678</td>\n",
              "    </tr>\n",
              "  </tbody>\n",
              "</table>\n",
              "</div>"
            ],
            "text/plain": [
              "    dia  velocidade  conexao  instabilidade  previsao_veloc  previsao_insta\n",
              "0     1          43       15             34       44.807363       33.551308\n",
              "1     2          45       21             29       46.378509       30.403004\n",
              "2     3          46       17             26       48.004746       27.550122\n",
              "3     4          49       14             23       49.688006       24.964942\n",
              "4     5          52       20             25       51.430289       22.622344\n",
              "5     6          55       18             22       53.233664       20.499565\n",
              "6     7          63       17             19       55.100273       18.575977\n",
              "7     8          59       21             20       57.032334       16.832891\n",
              "8     9          58       23             14       59.032141       15.253368\n",
              "9    10          60       16             12       61.102071       13.822060\n",
              "10   11          62       20             15       63.244582       12.525060\n",
              "11   12          66       18             11       65.462218       11.349765\n",
              "12   13          63       15              9       67.757615       10.284754\n",
              "13   14          71       17              9       70.133499        9.319678"
            ]
          },
          "execution_count": 17,
          "metadata": {
            "tags": []
          },
          "output_type": "execute_result"
        }
      ],
      "source": [
        "reclamacoes.head(14)"
      ]
    },
    {
      "cell_type": "code",
      "execution_count": 18,
      "metadata": {
        "colab": {
          "base_uri": "https://localhost:8080/"
        },
        "id": "Db3VxfrwmjFL",
        "outputId": "4880b63f-4eb9-472d-8f40-7c65be145604"
      },
      "outputs": [
        {
          "data": {
            "text/plain": [
              "76.24506367038431"
            ]
          },
          "execution_count": 18,
          "metadata": {
            "tags": []
          },
          "output_type": "execute_result"
        }
      ],
      "source": [
        "modelo2.aic"
      ]
    },
    {
      "cell_type": "code",
      "execution_count": 19,
      "metadata": {
        "colab": {
          "base_uri": "https://localhost:8080/"
        },
        "id": "0Rn0uw6brLIx",
        "outputId": "a0b7a29a-f7e1-4c22-d310-f60c433d176b"
      },
      "outputs": [
        {
          "name": "stdout",
          "output_type": "stream",
          "text": [
            "Optimization terminated successfully.\n",
            "         Current function value: 2.548776\n",
            "         Iterations 4\n"
          ]
        }
      ],
      "source": [
        "modelo3 = smf.poisson(\"conexao ~ dia\", data=reclamacoes).fit()"
      ]
    },
    {
      "cell_type": "code",
      "execution_count": 20,
      "metadata": {
        "colab": {
          "base_uri": "https://localhost:8080/"
        },
        "id": "TRjhR-svrLIz",
        "outputId": "363f0092-d3b9-40b1-d08d-a53c9a274207"
      },
      "outputs": [
        {
          "name": "stdout",
          "output_type": "stream",
          "text": [
            "                          Poisson Regression Results                          \n",
            "==============================================================================\n",
            "Dep. Variable:                conexao   No. Observations:                   15\n",
            "Model:                        Poisson   Df Residuals:                       13\n",
            "Method:                           MLE   Df Model:                            1\n",
            "Date:                Sun, 30 May 2021   Pseudo R-squ.:                0.001732\n",
            "Time:                        15:48:03   Log-Likelihood:                -38.232\n",
            "converged:                       True   LL-Null:                       -38.298\n",
            "Covariance Type:            nonrobust   LLR p-value:                    0.7157\n",
            "==============================================================================\n",
            "                 coef    std err          z      P>|z|      [0.025      0.975]\n",
            "------------------------------------------------------------------------------\n",
            "Intercept      2.8604      0.129     22.250      0.000       2.608       3.112\n",
            "dia            0.0051      0.014      0.364      0.716      -0.022       0.033\n",
            "==============================================================================\n"
          ]
        }
      ],
      "source": [
        "print(modelo3.summary())"
      ]
    },
    {
      "cell_type": "markdown",
      "metadata": {
        "id": "a3XKmZwGrLIz"
      },
      "source": [
        "**Equação: reclamação_conexão = e^(2.8604+0.0051.dia)**"
      ]
    },
    {
      "cell_type": "code",
      "execution_count": 21,
      "metadata": {
        "colab": {
          "base_uri": "https://localhost:8080/"
        },
        "id": "YRlmcKjOrLI0",
        "outputId": "8ceedc8e-fb3a-4245-f789-78454bb92767"
      },
      "outputs": [
        {
          "data": {
            "text/plain": [
              "0     17.557142\n",
              "1     17.646957\n",
              "2     17.737231\n",
              "3     17.827968\n",
              "4     17.919168\n",
              "5     18.010835\n",
              "6     18.102971\n",
              "7     18.195578\n",
              "8     18.288659\n",
              "9     18.382216\n",
              "10    18.476252\n",
              "11    18.570769\n",
              "12    18.665769\n",
              "13    18.761255\n",
              "14    18.857230\n",
              "dtype: float64"
            ]
          },
          "execution_count": 21,
          "metadata": {
            "tags": []
          },
          "output_type": "execute_result"
        }
      ],
      "source": [
        "modelo3.predict(reclamacoes.dia)"
      ]
    },
    {
      "cell_type": "code",
      "execution_count": 22,
      "metadata": {
        "id": "rBDL1V74rLI0"
      },
      "outputs": [],
      "source": [
        "reclamacoes['previsao_conexao'] = modelo3.predict(reclamacoes.dia)"
      ]
    },
    {
      "cell_type": "code",
      "execution_count": 23,
      "metadata": {
        "colab": {
          "base_uri": "https://localhost:8080/",
          "height": 468
        },
        "id": "I4UeR3PfrLI1",
        "outputId": "6ae9bd15-4bfc-4a75-8d45-13c843427ff9"
      },
      "outputs": [
        {
          "data": {
            "text/html": [
              "<div>\n",
              "<style scoped>\n",
              "    .dataframe tbody tr th:only-of-type {\n",
              "        vertical-align: middle;\n",
              "    }\n",
              "\n",
              "    .dataframe tbody tr th {\n",
              "        vertical-align: top;\n",
              "    }\n",
              "\n",
              "    .dataframe thead th {\n",
              "        text-align: right;\n",
              "    }\n",
              "</style>\n",
              "<table border=\"1\" class=\"dataframe\">\n",
              "  <thead>\n",
              "    <tr style=\"text-align: right;\">\n",
              "      <th></th>\n",
              "      <th>dia</th>\n",
              "      <th>velocidade</th>\n",
              "      <th>conexao</th>\n",
              "      <th>instabilidade</th>\n",
              "      <th>previsao_veloc</th>\n",
              "      <th>previsao_insta</th>\n",
              "      <th>previsao_conexao</th>\n",
              "    </tr>\n",
              "  </thead>\n",
              "  <tbody>\n",
              "    <tr>\n",
              "      <th>0</th>\n",
              "      <td>1</td>\n",
              "      <td>43</td>\n",
              "      <td>15</td>\n",
              "      <td>34</td>\n",
              "      <td>44.807363</td>\n",
              "      <td>33.551308</td>\n",
              "      <td>17.557142</td>\n",
              "    </tr>\n",
              "    <tr>\n",
              "      <th>1</th>\n",
              "      <td>2</td>\n",
              "      <td>45</td>\n",
              "      <td>21</td>\n",
              "      <td>29</td>\n",
              "      <td>46.378509</td>\n",
              "      <td>30.403004</td>\n",
              "      <td>17.646957</td>\n",
              "    </tr>\n",
              "    <tr>\n",
              "      <th>2</th>\n",
              "      <td>3</td>\n",
              "      <td>46</td>\n",
              "      <td>17</td>\n",
              "      <td>26</td>\n",
              "      <td>48.004746</td>\n",
              "      <td>27.550122</td>\n",
              "      <td>17.737231</td>\n",
              "    </tr>\n",
              "    <tr>\n",
              "      <th>3</th>\n",
              "      <td>4</td>\n",
              "      <td>49</td>\n",
              "      <td>14</td>\n",
              "      <td>23</td>\n",
              "      <td>49.688006</td>\n",
              "      <td>24.964942</td>\n",
              "      <td>17.827968</td>\n",
              "    </tr>\n",
              "    <tr>\n",
              "      <th>4</th>\n",
              "      <td>5</td>\n",
              "      <td>52</td>\n",
              "      <td>20</td>\n",
              "      <td>25</td>\n",
              "      <td>51.430289</td>\n",
              "      <td>22.622344</td>\n",
              "      <td>17.919168</td>\n",
              "    </tr>\n",
              "    <tr>\n",
              "      <th>5</th>\n",
              "      <td>6</td>\n",
              "      <td>55</td>\n",
              "      <td>18</td>\n",
              "      <td>22</td>\n",
              "      <td>53.233664</td>\n",
              "      <td>20.499565</td>\n",
              "      <td>18.010835</td>\n",
              "    </tr>\n",
              "    <tr>\n",
              "      <th>6</th>\n",
              "      <td>7</td>\n",
              "      <td>63</td>\n",
              "      <td>17</td>\n",
              "      <td>19</td>\n",
              "      <td>55.100273</td>\n",
              "      <td>18.575977</td>\n",
              "      <td>18.102971</td>\n",
              "    </tr>\n",
              "    <tr>\n",
              "      <th>7</th>\n",
              "      <td>8</td>\n",
              "      <td>59</td>\n",
              "      <td>21</td>\n",
              "      <td>20</td>\n",
              "      <td>57.032334</td>\n",
              "      <td>16.832891</td>\n",
              "      <td>18.195578</td>\n",
              "    </tr>\n",
              "    <tr>\n",
              "      <th>8</th>\n",
              "      <td>9</td>\n",
              "      <td>58</td>\n",
              "      <td>23</td>\n",
              "      <td>14</td>\n",
              "      <td>59.032141</td>\n",
              "      <td>15.253368</td>\n",
              "      <td>18.288659</td>\n",
              "    </tr>\n",
              "    <tr>\n",
              "      <th>9</th>\n",
              "      <td>10</td>\n",
              "      <td>60</td>\n",
              "      <td>16</td>\n",
              "      <td>12</td>\n",
              "      <td>61.102071</td>\n",
              "      <td>13.822060</td>\n",
              "      <td>18.382216</td>\n",
              "    </tr>\n",
              "    <tr>\n",
              "      <th>10</th>\n",
              "      <td>11</td>\n",
              "      <td>62</td>\n",
              "      <td>20</td>\n",
              "      <td>15</td>\n",
              "      <td>63.244582</td>\n",
              "      <td>12.525060</td>\n",
              "      <td>18.476252</td>\n",
              "    </tr>\n",
              "    <tr>\n",
              "      <th>11</th>\n",
              "      <td>12</td>\n",
              "      <td>66</td>\n",
              "      <td>18</td>\n",
              "      <td>11</td>\n",
              "      <td>65.462218</td>\n",
              "      <td>11.349765</td>\n",
              "      <td>18.570769</td>\n",
              "    </tr>\n",
              "    <tr>\n",
              "      <th>12</th>\n",
              "      <td>13</td>\n",
              "      <td>63</td>\n",
              "      <td>15</td>\n",
              "      <td>9</td>\n",
              "      <td>67.757615</td>\n",
              "      <td>10.284754</td>\n",
              "      <td>18.665769</td>\n",
              "    </tr>\n",
              "    <tr>\n",
              "      <th>13</th>\n",
              "      <td>14</td>\n",
              "      <td>71</td>\n",
              "      <td>17</td>\n",
              "      <td>9</td>\n",
              "      <td>70.133499</td>\n",
              "      <td>9.319678</td>\n",
              "      <td>18.761255</td>\n",
              "    </tr>\n",
              "  </tbody>\n",
              "</table>\n",
              "</div>"
            ],
            "text/plain": [
              "    dia  velocidade  conexao  ...  previsao_veloc  previsao_insta  previsao_conexao\n",
              "0     1          43       15  ...       44.807363       33.551308         17.557142\n",
              "1     2          45       21  ...       46.378509       30.403004         17.646957\n",
              "2     3          46       17  ...       48.004746       27.550122         17.737231\n",
              "3     4          49       14  ...       49.688006       24.964942         17.827968\n",
              "4     5          52       20  ...       51.430289       22.622344         17.919168\n",
              "5     6          55       18  ...       53.233664       20.499565         18.010835\n",
              "6     7          63       17  ...       55.100273       18.575977         18.102971\n",
              "7     8          59       21  ...       57.032334       16.832891         18.195578\n",
              "8     9          58       23  ...       59.032141       15.253368         18.288659\n",
              "9    10          60       16  ...       61.102071       13.822060         18.382216\n",
              "10   11          62       20  ...       63.244582       12.525060         18.476252\n",
              "11   12          66       18  ...       65.462218       11.349765         18.570769\n",
              "12   13          63       15  ...       67.757615       10.284754         18.665769\n",
              "13   14          71       17  ...       70.133499        9.319678         18.761255\n",
              "\n",
              "[14 rows x 7 columns]"
            ]
          },
          "execution_count": 23,
          "metadata": {
            "tags": []
          },
          "output_type": "execute_result"
        }
      ],
      "source": [
        "reclamacoes.head(14)"
      ]
    },
    {
      "cell_type": "code",
      "execution_count": 24,
      "metadata": {
        "colab": {
          "base_uri": "https://localhost:8080/"
        },
        "id": "cHKSEpcrrLI1",
        "outputId": "4b010ecd-3d06-41db-c490-f0bc9f5d2a52"
      },
      "outputs": [
        {
          "data": {
            "text/plain": [
              "80.46327008100528"
            ]
          },
          "execution_count": 24,
          "metadata": {
            "tags": []
          },
          "output_type": "execute_result"
        }
      ],
      "source": [
        "modelo3.aic"
      ]
    },
    {
      "cell_type": "code",
      "execution_count": 25,
      "metadata": {
        "colab": {
          "base_uri": "https://localhost:8080/"
        },
        "id": "wLdnrGHhtkAw",
        "outputId": "ccafce4e-4ff6-4f1d-c6f1-37b8f46fbe0e"
      },
      "outputs": [
        {
          "name": "stdout",
          "output_type": "stream",
          "text": [
            "Optimization terminated successfully.\n",
            "         Current function value: 3.003105\n",
            "         Iterations 5\n"
          ]
        }
      ],
      "source": [
        "modelo4 = smf.poisson(\"velocidade ~ dia + instabilidade\", data=reclamacoes).fit()"
      ]
    },
    {
      "cell_type": "code",
      "execution_count": 26,
      "metadata": {
        "colab": {
          "base_uri": "https://localhost:8080/"
        },
        "id": "06lYa4LTr4t0",
        "outputId": "8f4ec3f8-30ec-46a1-a339-29fa64c23f0a"
      },
      "outputs": [
        {
          "name": "stdout",
          "output_type": "stream",
          "text": [
            "                          Poisson Regression Results                          \n",
            "==============================================================================\n",
            "Dep. Variable:             velocidade   No. Observations:                   15\n",
            "Model:                        Poisson   Df Residuals:                       12\n",
            "Method:                           MLE   Df Model:                            2\n",
            "Date:                Sun, 30 May 2021   Pseudo R-squ.:                  0.1745\n",
            "Time:                        15:51:32   Log-Likelihood:                -45.047\n",
            "converged:                       True   LL-Null:                       -54.572\n",
            "Covariance Type:            nonrobust   LLR p-value:                 7.298e-05\n",
            "=================================================================================\n",
            "                    coef    std err          z      P>|z|      [0.025      0.975]\n",
            "---------------------------------------------------------------------------------\n",
            "Intercept         3.7560      0.627      5.989      0.000       2.527       4.985\n",
            "dia               0.0351      0.034      1.024      0.306      -0.032       0.102\n",
            "instabilidade     0.0004      0.019      0.019      0.985      -0.038       0.038\n",
            "=================================================================================\n"
          ]
        }
      ],
      "source": [
        "print(modelo4.summary())"
      ]
    },
    {
      "cell_type": "markdown",
      "metadata": {
        "id": "iEVBWRHBr4t1"
      },
      "source": [
        "**Equação: reclamação_veloc = e^(3.7560+0.0351.dia+0.0004.instabilidade)**"
      ]
    },
    {
      "cell_type": "code",
      "execution_count": 27,
      "metadata": {
        "colab": {
          "base_uri": "https://localhost:8080/"
        },
        "id": "c7c1T9Y0r4t1",
        "outputId": "07061e72-e284-4ac3-ecb2-d9a4bf1f78e8"
      },
      "outputs": [
        {
          "data": {
            "text/plain": [
              "array([44.86608238, 46.3831428 , 47.98691457, 49.64613932, 51.4576226 ,\n",
              "       53.23685267, 55.07760248, 57.06619903, 58.97400919, 61.03565706,\n",
              "       63.28607712, 65.4501302 , 67.73817409, 70.1579821 , 72.63741438])"
            ]
          },
          "execution_count": 27,
          "metadata": {
            "tags": []
          },
          "output_type": "execute_result"
        }
      ],
      "source": [
        "modelo4.predict()"
      ]
    },
    {
      "cell_type": "code",
      "execution_count": 28,
      "metadata": {
        "id": "XK47EsWfr4t2"
      },
      "outputs": [],
      "source": [
        "reclamacoes['previsao_veloc2'] = modelo4.predict()"
      ]
    },
    {
      "cell_type": "code",
      "execution_count": 29,
      "metadata": {
        "colab": {
          "base_uri": "https://localhost:8080/",
          "height": 468
        },
        "id": "EG91YlEzr4t2",
        "outputId": "0ec1a35c-902c-4c8c-c16a-53844e801d28"
      },
      "outputs": [
        {
          "data": {
            "text/html": [
              "<div>\n",
              "<style scoped>\n",
              "    .dataframe tbody tr th:only-of-type {\n",
              "        vertical-align: middle;\n",
              "    }\n",
              "\n",
              "    .dataframe tbody tr th {\n",
              "        vertical-align: top;\n",
              "    }\n",
              "\n",
              "    .dataframe thead th {\n",
              "        text-align: right;\n",
              "    }\n",
              "</style>\n",
              "<table border=\"1\" class=\"dataframe\">\n",
              "  <thead>\n",
              "    <tr style=\"text-align: right;\">\n",
              "      <th></th>\n",
              "      <th>dia</th>\n",
              "      <th>velocidade</th>\n",
              "      <th>conexao</th>\n",
              "      <th>instabilidade</th>\n",
              "      <th>previsao_veloc</th>\n",
              "      <th>previsao_insta</th>\n",
              "      <th>previsao_conexao</th>\n",
              "      <th>previsao_veloc2</th>\n",
              "    </tr>\n",
              "  </thead>\n",
              "  <tbody>\n",
              "    <tr>\n",
              "      <th>0</th>\n",
              "      <td>1</td>\n",
              "      <td>43</td>\n",
              "      <td>15</td>\n",
              "      <td>34</td>\n",
              "      <td>44.807363</td>\n",
              "      <td>33.551308</td>\n",
              "      <td>17.557142</td>\n",
              "      <td>44.866082</td>\n",
              "    </tr>\n",
              "    <tr>\n",
              "      <th>1</th>\n",
              "      <td>2</td>\n",
              "      <td>45</td>\n",
              "      <td>21</td>\n",
              "      <td>29</td>\n",
              "      <td>46.378509</td>\n",
              "      <td>30.403004</td>\n",
              "      <td>17.646957</td>\n",
              "      <td>46.383143</td>\n",
              "    </tr>\n",
              "    <tr>\n",
              "      <th>2</th>\n",
              "      <td>3</td>\n",
              "      <td>46</td>\n",
              "      <td>17</td>\n",
              "      <td>26</td>\n",
              "      <td>48.004746</td>\n",
              "      <td>27.550122</td>\n",
              "      <td>17.737231</td>\n",
              "      <td>47.986915</td>\n",
              "    </tr>\n",
              "    <tr>\n",
              "      <th>3</th>\n",
              "      <td>4</td>\n",
              "      <td>49</td>\n",
              "      <td>14</td>\n",
              "      <td>23</td>\n",
              "      <td>49.688006</td>\n",
              "      <td>24.964942</td>\n",
              "      <td>17.827968</td>\n",
              "      <td>49.646139</td>\n",
              "    </tr>\n",
              "    <tr>\n",
              "      <th>4</th>\n",
              "      <td>5</td>\n",
              "      <td>52</td>\n",
              "      <td>20</td>\n",
              "      <td>25</td>\n",
              "      <td>51.430289</td>\n",
              "      <td>22.622344</td>\n",
              "      <td>17.919168</td>\n",
              "      <td>51.457623</td>\n",
              "    </tr>\n",
              "    <tr>\n",
              "      <th>5</th>\n",
              "      <td>6</td>\n",
              "      <td>55</td>\n",
              "      <td>18</td>\n",
              "      <td>22</td>\n",
              "      <td>53.233664</td>\n",
              "      <td>20.499565</td>\n",
              "      <td>18.010835</td>\n",
              "      <td>53.236853</td>\n",
              "    </tr>\n",
              "    <tr>\n",
              "      <th>6</th>\n",
              "      <td>7</td>\n",
              "      <td>63</td>\n",
              "      <td>17</td>\n",
              "      <td>19</td>\n",
              "      <td>55.100273</td>\n",
              "      <td>18.575977</td>\n",
              "      <td>18.102971</td>\n",
              "      <td>55.077602</td>\n",
              "    </tr>\n",
              "    <tr>\n",
              "      <th>7</th>\n",
              "      <td>8</td>\n",
              "      <td>59</td>\n",
              "      <td>21</td>\n",
              "      <td>20</td>\n",
              "      <td>57.032334</td>\n",
              "      <td>16.832891</td>\n",
              "      <td>18.195578</td>\n",
              "      <td>57.066199</td>\n",
              "    </tr>\n",
              "    <tr>\n",
              "      <th>8</th>\n",
              "      <td>9</td>\n",
              "      <td>58</td>\n",
              "      <td>23</td>\n",
              "      <td>14</td>\n",
              "      <td>59.032141</td>\n",
              "      <td>15.253368</td>\n",
              "      <td>18.288659</td>\n",
              "      <td>58.974009</td>\n",
              "    </tr>\n",
              "    <tr>\n",
              "      <th>9</th>\n",
              "      <td>10</td>\n",
              "      <td>60</td>\n",
              "      <td>16</td>\n",
              "      <td>12</td>\n",
              "      <td>61.102071</td>\n",
              "      <td>13.822060</td>\n",
              "      <td>18.382216</td>\n",
              "      <td>61.035657</td>\n",
              "    </tr>\n",
              "    <tr>\n",
              "      <th>10</th>\n",
              "      <td>11</td>\n",
              "      <td>62</td>\n",
              "      <td>20</td>\n",
              "      <td>15</td>\n",
              "      <td>63.244582</td>\n",
              "      <td>12.525060</td>\n",
              "      <td>18.476252</td>\n",
              "      <td>63.286077</td>\n",
              "    </tr>\n",
              "    <tr>\n",
              "      <th>11</th>\n",
              "      <td>12</td>\n",
              "      <td>66</td>\n",
              "      <td>18</td>\n",
              "      <td>11</td>\n",
              "      <td>65.462218</td>\n",
              "      <td>11.349765</td>\n",
              "      <td>18.570769</td>\n",
              "      <td>65.450130</td>\n",
              "    </tr>\n",
              "    <tr>\n",
              "      <th>12</th>\n",
              "      <td>13</td>\n",
              "      <td>63</td>\n",
              "      <td>15</td>\n",
              "      <td>9</td>\n",
              "      <td>67.757615</td>\n",
              "      <td>10.284754</td>\n",
              "      <td>18.665769</td>\n",
              "      <td>67.738174</td>\n",
              "    </tr>\n",
              "    <tr>\n",
              "      <th>13</th>\n",
              "      <td>14</td>\n",
              "      <td>71</td>\n",
              "      <td>17</td>\n",
              "      <td>9</td>\n",
              "      <td>70.133499</td>\n",
              "      <td>9.319678</td>\n",
              "      <td>18.761255</td>\n",
              "      <td>70.157982</td>\n",
              "    </tr>\n",
              "  </tbody>\n",
              "</table>\n",
              "</div>"
            ],
            "text/plain": [
              "    dia  velocidade  conexao  ...  previsao_insta  previsao_conexao  previsao_veloc2\n",
              "0     1          43       15  ...       33.551308         17.557142        44.866082\n",
              "1     2          45       21  ...       30.403004         17.646957        46.383143\n",
              "2     3          46       17  ...       27.550122         17.737231        47.986915\n",
              "3     4          49       14  ...       24.964942         17.827968        49.646139\n",
              "4     5          52       20  ...       22.622344         17.919168        51.457623\n",
              "5     6          55       18  ...       20.499565         18.010835        53.236853\n",
              "6     7          63       17  ...       18.575977         18.102971        55.077602\n",
              "7     8          59       21  ...       16.832891         18.195578        57.066199\n",
              "8     9          58       23  ...       15.253368         18.288659        58.974009\n",
              "9    10          60       16  ...       13.822060         18.382216        61.035657\n",
              "10   11          62       20  ...       12.525060         18.476252        63.286077\n",
              "11   12          66       18  ...       11.349765         18.570769        65.450130\n",
              "12   13          63       15  ...       10.284754         18.665769        67.738174\n",
              "13   14          71       17  ...        9.319678         18.761255        70.157982\n",
              "\n",
              "[14 rows x 8 columns]"
            ]
          },
          "execution_count": 29,
          "metadata": {
            "tags": []
          },
          "output_type": "execute_result"
        }
      ],
      "source": [
        "reclamacoes.head(14)"
      ]
    },
    {
      "cell_type": "code",
      "execution_count": 30,
      "metadata": {
        "colab": {
          "base_uri": "https://localhost:8080/"
        },
        "id": "emg784H-r4t3",
        "outputId": "35ea2710-564e-4169-db11-916e7e318f90"
      },
      "outputs": [
        {
          "data": {
            "text/plain": [
              "96.09316303655228"
            ]
          },
          "execution_count": 30,
          "metadata": {
            "tags": []
          },
          "output_type": "execute_result"
        }
      ],
      "source": [
        "modelo4.aic"
      ]
    },
    {
      "cell_type": "code",
      "execution_count": 31,
      "metadata": {
        "colab": {
          "base_uri": "https://localhost:8080/"
        },
        "id": "BC--xgPDtKqx",
        "outputId": "aceb0e75-760a-4e37-e182-41d032bd4114"
      },
      "outputs": [
        {
          "data": {
            "text/plain": [
              "94.09352707843601"
            ]
          },
          "execution_count": 31,
          "metadata": {
            "tags": []
          },
          "output_type": "execute_result"
        }
      ],
      "source": [
        "modelo1.aic"
      ]
    }
  ],
  "metadata": {
    "colab": {
      "name": "regressao_poisson.ipynb",
      "provenance": []
    },
    "kernelspec": {
      "display_name": "Python 3",
      "name": "python3"
    },
    "language_info": {
      "name": "python"
    }
  },
  "nbformat": 4,
  "nbformat_minor": 0
}
