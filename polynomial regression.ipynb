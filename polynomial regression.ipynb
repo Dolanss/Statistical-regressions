{
  "cells": [
    {
      "cell_type": "code",
      "execution_count": null,
      "metadata": {
        "id": "PGFJHjk0tttU"
      },
      "outputs": [],
      "source": [
        "import numpy as np\n",
        "import pandas as pd"
      ]
    },
    {
      "cell_type": "code",
      "execution_count": null,
      "metadata": {
        "id": "wLMmk6o8uEae"
      },
      "outputs": [],
      "source": [
        "vendas = pd.read_excel('/content/drive/MyDrive/python_tests/regression.xlsx')"
      ]
    },
    {
      "cell_type": "code",
      "execution_count": null,
      "metadata": {
        "id": "GlPMHCa5ulBQ"
      },
      "outputs": [],
      "source": [
        "vendas.head(50)"
      ]
    },
    {
      "cell_type": "code",
      "execution_count": null,
      "metadata": {
        "id": "4rQom71wY2Sh"
      },
      "outputs": [],
      "source": [
        "vendas.shape"
      ]
    },
    {
      "cell_type": "code",
      "execution_count": null,
      "metadata": {
        "id": "5u58CPhzZFPQ"
      },
      "outputs": [],
      "source": [
        "vendas.dtypes"
      ]
    },
    {
      "cell_type": "code",
      "execution_count": null,
      "metadata": {
        "id": "flOfAZcjaRo3"
      },
      "outputs": [],
      "source": [
        "vendas = vendas.astype({\"comissao\": float})"
      ]
    },
    {
      "cell_type": "code",
      "execution_count": null,
      "metadata": {
        "id": "qRrstGM5aaAe"
      },
      "outputs": [],
      "source": [
        "vendas.dtypes"
      ]
    },
    {
      "cell_type": "markdown",
      "metadata": {
        "id": "3lk5kf4eZ_sL"
      },
      "source": [
        "**Valores Missing (NAN)**"
      ]
    },
    {
      "cell_type": "code",
      "execution_count": null,
      "metadata": {
        "id": "A24U7d5QYPaV"
      },
      "outputs": [],
      "source": [
        "# RELAÇÃO DA QUANTIDADE\n",
        "vendas.isnull().sum()"
      ]
    },
    {
      "cell_type": "markdown",
      "metadata": {
        "id": "HfBf1rlqcLRa"
      },
      "source": [
        "**Gráfico para análise inicial**"
      ]
    },
    {
      "cell_type": "code",
      "execution_count": null,
      "metadata": {
        "id": "Gc7UtQStbzD0"
      },
      "outputs": [],
      "source": [
        "import matplotlib.pyplot as plt"
      ]
    },
    {
      "cell_type": "code",
      "execution_count": null,
      "metadata": {
        "id": "9iGcxP_nb0aT"
      },
      "outputs": [],
      "source": [
        "plt.scatter(vendas.quantidade, vendas.comissao)\n",
        "plt.title('Correlação')\n",
        "plt.xlabel('Quantidade')\n",
        "plt.ylabel('Comissão')\n",
        "plt.grid(True)\n",
        "plt.show()"
      ]
    },
    {
      "cell_type": "markdown",
      "metadata": {
        "id": "42p98lbyct3B"
      },
      "source": [
        "**NORMALIDADE**"
      ]
    },
    {
      "cell_type": "code",
      "execution_count": null,
      "metadata": {
        "id": "hF2_iTC2dPsg"
      },
      "outputs": [],
      "source": [
        "import scipy.stats as stats"
      ]
    },
    {
      "cell_type": "code",
      "execution_count": null,
      "metadata": {
        "id": "sBiKluNPc0N5"
      },
      "outputs": [],
      "source": [
        "stats.probplot(vendas['comissao'], dist=\"norm\", plot=plt)\n",
        "plt.title(\"Normal Q-Q plot\")\n",
        "plt.show()"
      ]
    },
    {
      "cell_type": "markdown",
      "metadata": {
        "id": "b38jbpVpBSrN"
      },
      "source": [
        "Teste Shapiro-Wilk"
      ]
    },
    {
      "cell_type": "markdown",
      "metadata": {
        "id": "UBCGqxZiCKzR"
      },
      "source": [
        "Ho = distribuição normal : p > 0.05\n",
        "\n",
        "Ha = distribuição != normal : p <= 0.05"
      ]
    },
    {
      "cell_type": "code",
      "execution_count": null,
      "metadata": {
        "id": "wxg4KYhAAqIP"
      },
      "outputs": [],
      "source": [
        "estatistica, p = stats.shapiro(vendas.comissao)\n",
        "print('Estatística do teste: {}'.format(estatistica))\n",
        "print('p-valor: {}'.format(p))"
      ]
    },
    {
      "cell_type": "markdown",
      "metadata": {
        "id": "zqLl2LgkQbs3"
      },
      "source": [
        "Ho = não há corrrelação linear: p > 0,05\n",
        "\n",
        "Ha = existe correlação linear: p <= 0,05"
      ]
    },
    {
      "cell_type": "code",
      "execution_count": null,
      "metadata": {
        "id": "HrmYVT06doKH"
      },
      "outputs": [],
      "source": [
        "# Spearman\n",
        "coef,p = stats.spearmanr(vendas.quantidade, vendas.comissao)\n",
        "print('Coeficiente de correlação: {}'.format(coef))\n",
        "print('p-valor: {}'.format(p))"
      ]
    },
    {
      "cell_type": "code",
      "execution_count": null,
      "metadata": {
        "id": "zFuMSGRTG0Nd"
      },
      "outputs": [],
      "source": [
        "import statsmodels.formula.api as smf\n",
        "import statsmodels.stats.api as sms"
      ]
    },
    {
      "cell_type": "code",
      "execution_count": null,
      "metadata": {
        "id": "MeznMmquUZk9"
      },
      "outputs": [],
      "source": [
        "# Criação do modelo\n",
        "regressao = smf.ols('comissao ~ quantidade', data = vendas).fit()"
      ]
    },
    {
      "cell_type": "code",
      "execution_count": null,
      "metadata": {
        "id": "mv1ZxbnpP8Fv"
      },
      "outputs": [],
      "source": [
        "print(regressao.summary())"
      ]
    },
    {
      "cell_type": "markdown",
      "metadata": {
        "id": "-ntti1sDhA48"
      },
      "source": [
        "Estatística t:\n",
        "\n",
        "Ho = coeficiente igual a zero : p > 0,05 (coeficiente não validado)\n",
        "\n",
        "Ha = coeficiente diferente de zero: p <= 0,05 (coeficiente validado)\n",
        "\n",
        "**Equação: Comissão = -626 + 178.quantidade**\n",
        "\n",
        "**R^2 ajustado = 0,954**"
      ]
    },
    {
      "cell_type": "code",
      "execution_count": null,
      "metadata": {
        "id": "81MFubtdRw-A"
      },
      "outputs": [],
      "source": [
        "plt.scatter(y=vendas.comissao, x=vendas.quantidade, color='blue', s=50, alpha=0.6)\n",
        "X_plot = np.linspace(0, 70)\n",
        "plt.plot(X_plot, X_plot*regressao.params[1] + regressao.params[0], color='r')\n",
        "plt.title('Reta de regressão')\n",
        "plt.ylabel('COMISSÃO')\n",
        "plt.xlabel('QUANTIDADE')\n",
        "plt.show()"
      ]
    },
    {
      "cell_type": "code",
      "execution_count": null,
      "metadata": {
        "id": "0i9NihbRdxBD"
      },
      "outputs": [],
      "source": [
        "regressao.params"
      ]
    },
    {
      "cell_type": "markdown",
      "metadata": {
        "id": "frStkPtsWCn4"
      },
      "source": [
        "**y = b0 + b1.x + b2.x^2**"
      ]
    },
    {
      "cell_type": "code",
      "execution_count": null,
      "metadata": {
        "id": "ANTyVIMrVpPh"
      },
      "outputs": [],
      "source": [
        "modelo2 = np.poly1d(np.polyfit(vendas.quantidade, vendas.comissao, 2))"
      ]
    },
    {
      "cell_type": "code",
      "execution_count": null,
      "metadata": {
        "id": "m0iPXIhiWdDw"
      },
      "outputs": [],
      "source": [
        "y2 = modelo2(vendas.quantidade)\n",
        "y2"
      ]
    },
    {
      "cell_type": "code",
      "execution_count": null,
      "metadata": {
        "id": "tVM1RDxFYWwG"
      },
      "outputs": [],
      "source": [
        "modelo2.coef"
      ]
    },
    {
      "cell_type": "code",
      "execution_count": null,
      "metadata": {
        "id": "2tS2tZhZZHZP"
      },
      "outputs": [],
      "source": [
        "print(\"Equação: COMISSÃO = {:.1f} + {:.1f}*quantidade + {:.1f}*quantidade^2\".format(modelo2.coef[2], modelo2.coef[1], modelo2.coef[0]))"
      ]
    },
    {
      "cell_type": "code",
      "execution_count": null,
      "metadata": {
        "id": "yg6E1pChWvEW"
      },
      "outputs": [],
      "source": [
        "plt.scatter(vendas.quantidade, vendas.comissao)\n",
        "plt.plot(vendas.quantidade,y2,color='red');\n"
      ]
    },
    {
      "cell_type": "markdown",
      "metadata": {
        "id": "nZdAYy_Ab0Rd"
      },
      "source": [
        "**y = b0 + b1.x + b2.x^2 + b3.x^3**"
      ]
    },
    {
      "cell_type": "code",
      "execution_count": null,
      "metadata": {
        "id": "PrCagxZPb0Re"
      },
      "outputs": [],
      "source": [
        "modelo3 = np.poly1d(np.polyfit(vendas.quantidade, vendas.comissao, 3))"
      ]
    },
    {
      "cell_type": "code",
      "execution_count": null,
      "metadata": {
        "id": "cV3Rlei3b0Rf"
      },
      "outputs": [],
      "source": [
        "y3 = modelo3(vendas.quantidade)\n",
        "y3"
      ]
    },
    {
      "cell_type": "code",
      "execution_count": null,
      "metadata": {
        "id": "4Tta7ALBb0Rg"
      },
      "outputs": [],
      "source": [
        "modelo3.coef"
      ]
    },
    {
      "cell_type": "code",
      "execution_count": null,
      "metadata": {
        "id": "7ClJM7K2b0Rh"
      },
      "outputs": [],
      "source": [
        "print(\"Equação: COMISSÃO = {:.1f} + {:.1f}*quantidade + {:.1f}*quantidade^2 + {:.1f}*quantidade^3\".format(modelo3.coef[3], modelo3.coef[2], modelo3.coef[1], modelo3.coef[0]))"
      ]
    },
    {
      "cell_type": "code",
      "execution_count": null,
      "metadata": {
        "id": "0ydb916bb0Ri"
      },
      "outputs": [],
      "source": [
        "plt.scatter(vendas.quantidade, vendas.comissao)\n",
        "plt.plot(vendas.quantidade,y3,color='red');"
      ]
    },
    {
      "cell_type": "code",
      "execution_count": null,
      "metadata": {
        "id": "et2zJl5IGfYz"
      },
      "outputs": [],
      "source": [
        "from sklearn.preprocessing import PolynomialFeatures\n",
        "from sklearn.linear_model import LinearRegression"
      ]
    },
    {
      "cell_type": "code",
      "execution_count": null,
      "metadata": {
        "id": "59Wkn1dPG7wv"
      },
      "outputs": [],
      "source": [
        "# Pré Processamento\n",
        "pre_process = PolynomialFeatures(degree=2)"
      ]
    },
    {
      "cell_type": "code",
      "execution_count": null,
      "metadata": {
        "id": "Dn0yhJ-kHQBR"
      },
      "outputs": [],
      "source": [
        "x = vendas[['quantidade']]\n",
        "y = vendas.comissao"
      ]
    },
    {
      "cell_type": "code",
      "execution_count": null,
      "metadata": {
        "id": "XoQnKqndP5mS"
      },
      "outputs": [],
      "source": [
        "x"
      ]
    },
    {
      "cell_type": "code",
      "execution_count": null,
      "metadata": {
        "id": "t0Xw_Z0SP9q_"
      },
      "outputs": [],
      "source": [
        "y"
      ]
    },
    {
      "cell_type": "code",
      "execution_count": null,
      "metadata": {
        "id": "3USrP4X3HFsy"
      },
      "outputs": [],
      "source": [
        "x_poly = pre_process.fit_transform(x)\n",
        "x_poly"
      ]
    },
    {
      "cell_type": "markdown",
      "metadata": {
        "id": "NpNwfyO-Nf1b"
      },
      "source": [
        "**Criação do modelo**"
      ]
    },
    {
      "cell_type": "code",
      "execution_count": null,
      "metadata": {
        "id": "rj_XY2XLH_xT"
      },
      "outputs": [],
      "source": [
        "modelo_sk = LinearRegression()"
      ]
    },
    {
      "cell_type": "code",
      "execution_count": null,
      "metadata": {
        "id": "nKUuIzxSIQew"
      },
      "outputs": [],
      "source": [
        "modelo_sk.fit(x_poly, y)"
      ]
    },
    {
      "cell_type": "code",
      "execution_count": null,
      "metadata": {
        "id": "oz-LIcpZIY3A"
      },
      "outputs": [],
      "source": [
        "y_pred = modelo_sk.predict(x_poly)"
      ]
    },
    {
      "cell_type": "code",
      "execution_count": null,
      "metadata": {
        "id": "rFT2DiAKIgfh"
      },
      "outputs": [],
      "source": [
        "plt.scatter(x, y, c = \"gray\")\n",
        "plt.xlabel(\"Quantidade\")\n",
        "plt.ylabel(\"Comissão\")\n",
        "plt.plot(x, y_pred);"
      ]
    },
    {
      "cell_type": "code",
      "execution_count": null,
      "metadata": {
        "id": "F3DOYEYQI_E3"
      },
      "outputs": [],
      "source": [
        "modelo_sk.coef_"
      ]
    },
    {
      "cell_type": "code",
      "execution_count": null,
      "metadata": {
        "id": "EwD-acyiJl2-"
      },
      "outputs": [],
      "source": [
        "modelo_sk.intercept_"
      ]
    },
    {
      "cell_type": "code",
      "execution_count": null,
      "metadata": {
        "id": "ghd1x9WhJs1L"
      },
      "outputs": [],
      "source": [
        "print(\"Equação: COMISSÃO = {:.1f} + {:.1f}*quantidade + {:.1f}*quantidade^2\".format(modelo_sk.intercept_, modelo_sk.coef_[1], modelo_sk.coef_[2]))"
      ]
    },
    {
      "cell_type": "markdown",
      "metadata": {
        "id": "eGCROG_INMnI"
      },
      "source": [
        "**Previsão**"
      ]
    },
    {
      "cell_type": "code",
      "execution_count": null,
      "metadata": {
        "id": "N7kF6qtrK_A9"
      },
      "outputs": [],
      "source": [
        "quantidade = 72\n",
        "previsao = modelo_sk.predict(pre_process.fit_transform([[quantidade]]))\n",
        "print(\"Se vender {}, irá ganhar {:.2f} reais de comissão\".format(quantidade, previsao[0]))\n"
      ]
    },
    {
      "cell_type": "code",
      "execution_count": null,
      "metadata": {
        "id": "80kXuYn9L_Pp"
      },
      "outputs": [],
      "source": [
        "# Gráfico com valor previsto\n",
        "plt.scatter(x, y, c = \"gray\")\n",
        "plt.xlabel(\"Quantidade\")\n",
        "plt.ylabel(\"Comissão\")\n",
        "plt.plot(x, y_pred)\n",
        "plt.scatter(72, previsao, c = \"red\");"
      ]
    },
    {
      "cell_type": "markdown",
      "metadata": {
        "id": "LmLdLO2UNwvN"
      },
      "source": [
        "**Avaliação do modelo**"
      ]
    },
    {
      "cell_type": "code",
      "execution_count": null,
      "metadata": {
        "id": "cH0bPr7hN22F"
      },
      "outputs": [],
      "source": [
        "from sklearn.metrics import mean_squared_error, mean_absolute_error\n"
      ]
    },
    {
      "cell_type": "code",
      "execution_count": null,
      "metadata": {
        "id": "CLQhQL3gN6C7"
      },
      "outputs": [],
      "source": [
        "# Erro médio quadrático (MSE)\n",
        "mean_squared_error(y, y_pred)"
      ]
    },
    {
      "cell_type": "code",
      "execution_count": null,
      "metadata": {
        "id": "b8seK71XScVe"
      },
      "outputs": [],
      "source": [
        "# Erro médio absoluto (MAE)\n",
        "mean_absolute_error(y, y_pred)"
      ]
    }
  ],
  "metadata": {
    "colab": {
      "name": "regressao_polinomial.ipynb",
      "provenance": []
    },
    "kernelspec": {
      "display_name": "Python 3",
      "name": "python3"
    },
    "language_info": {
      "name": "python"
    }
  },
  "nbformat": 4,
  "nbformat_minor": 0
}
